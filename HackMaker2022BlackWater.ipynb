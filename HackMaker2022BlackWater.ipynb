{
 "cells": [
  {
   "cell_type": "code",
   "execution_count": 118,
   "id": "21aa3a23",
   "metadata": {},
   "outputs": [],
   "source": [
    "import numpy as np # linear algebra\n",
    "import pandas as pd # data processing, CSV file I/O (e.g. pd.read_csv)\n",
    "import matplotlib.pyplot as plt\n",
    "from sklearn import metrics\n",
    "from sklearn.metrics import mean_absolute_error\n",
    "from statsmodels.tsa.vector_ar.var_model import VAR"
   ]
  },
  {
   "cell_type": "code",
   "execution_count": null,
   "id": "d73a7d03",
   "metadata": {},
   "outputs": [],
   "source": [
    "# Reading the CSV file.\n",
    "df = pd.read_csv('weather.csv')"
   ]
  },
  {
   "cell_type": "code",
   "execution_count": null,
   "id": "6fb62175",
   "metadata": {},
   "outputs": [],
   "source": [
    "df.describe()"
   ]
  },
  {
   "cell_type": "code",
   "execution_count": null,
   "id": "d8aab7c3",
   "metadata": {},
   "outputs": [],
   "source": [
    "df.columns"
   ]
  },
  {
   "cell_type": "code",
   "execution_count": null,
   "id": "6cabffa0",
   "metadata": {},
   "outputs": [],
   "source": [
    "#sort value by timestamp\n",
    "df = df.sort_values(by=\"TIMESTAMP\",ascending=True)\n",
    "df['TIMESTAMP'] = pd.to_datetime(df['TIMESTAMP'],unit='s')\n",
    "df = df.set_index(\"TIMESTAMP\")"
   ]
  },
  {
   "cell_type": "code",
   "execution_count": null,
   "id": "22e94866",
   "metadata": {},
   "outputs": [],
   "source": [
    "!pip install sweetviz"
   ]
  },
  {
   "cell_type": "code",
   "execution_count": null,
   "id": "8d534aab",
   "metadata": {},
   "outputs": [],
   "source": [
    "import sweetviz as sv\n",
    "feature_config = sv.FeatureConfig(force_num=['M_PACKET_FORMAT', 'M_GAME_MAJOR_VERSION', 'M_GAME_MINOR_VERSION',\n",
    "       'M_PACKET_VERSION', 'M_PACKET_ID', 'M_SESSION_UID', 'M_SESSION_TIME',\n",
    "       'M_FRAME_IDENTIFIER', 'M_PLAYER_CAR_INDEX',\n",
    "       'M_SECONDARY_PLAYER_CAR_INDEX', 'M_BRAKING_ASSIST',\n",
    "       'M_SESSION_LINK_IDENTIFIER', 'M_PIT_RELEASE_ASSIST',\n",
    "       'M_ZONE_START', 'M_ZONE_FLAG', 'M_PIT_STOP_WINDOW_IDEAL_LAP',\n",
    "       'M_TRACK_TEMPERATURE', 'M_TRACK_LENGTH', 'M_GAME_PAUSED',\n",
    "       'M_FORECAST_ACCURACY', 'M_AIR_TEMPERATURE',\n",
    "       'M_NUM_WEATHER_FORECAST_SAMPLES', 'M_SLI_PRO_NATIVE_SUPPORT',\n",
    "       'M_SAFETY_CAR_STATUS', 'M_TRACK_ID', 'M_ERSASSIST', 'M_FORMULA',\n",
    "       'M_SEASON_LINK_IDENTIFIER', 'M_PIT_ASSIST', 'M_GEARBOX_ASSIST',\n",
    "       'M_SESSION_TYPE', 'M_SPECTATOR_CAR_INDEX',\n",
    "       'M_PIT_STOP_WINDOW_LATEST_LAP', 'M_WEEKEND_LINK_IDENTIFIER',\n",
    "       'M_DYNAMIC_RACING_LINE_TYPE', 'M_SESSION_TIME_LEFT',\n",
    "       'M_SESSION_DURATION', 'M_PIT_STOP_REJOIN_POSITION',\n",
    "       'M_WEATHER_FORECAST_SAMPLES_M_SESSION_TYPE', 'M_TIME_OFFSET',\n",
    "       'M_WEATHER_FORECAST_SAMPLES_M_WEATHER',\n",
    "       'M_WEATHER_FORECAST_SAMPLES_M_TRACK_TEMPERATURE',\n",
    "       'M_TRACK_TEMPERATURE_CHANGE',\n",
    "       'M_WEATHER_FORECAST_SAMPLES_M_AIR_TEMPERATURE',\n",
    "       'M_AIR_TEMPERATURE_CHANGE', 'M_RAIN_PERCENTAGE', 'M_WEATHER',\n",
    "       'M_AI_DIFFICULTY', 'M_PIT_SPEED_LIMIT', 'M_NETWORK_GAME',\n",
    "       'M_TOTAL_LAPS', 'M_STEERING_ASSIST', 'M_IS_SPECTATING',\n",
    "       'M_DYNAMIC_RACING_LINE', 'M_DRSASSIST', 'M_NUM_MARSHAL_ZONES'])\n",
    "\n",
    "\n"
   ]
  },
  {
   "cell_type": "code",
   "execution_count": null,
   "id": "a1d3c6cd",
   "metadata": {},
   "outputs": [],
   "source": [
    "report = sv.analyze(df, target_feat='M_WEATHER', feat_cfg=feature_config)"
   ]
  },
  {
   "cell_type": "code",
   "execution_count": null,
   "id": "0209abc3",
   "metadata": {},
   "outputs": [],
   "source": [
    "report.show_html()"
   ]
  },
  {
   "cell_type": "markdown",
   "id": "baa5a768",
   "metadata": {},
   "source": [
    "Use PCA to do dimensionality reduction and identify the significant feactures\n",
    "-----------------------------------------------------------------------------"
   ]
  },
  {
   "cell_type": "markdown",
   "id": "d1e87b08",
   "metadata": {},
   "source": [
    "**Function to :**\n",
    "\n",
    "* drop weather column and rain percentage and split data to test set\n",
    "* split data to test and train set\n",
    "* Normalize data\n",
    "\n"
   ]
  },
  {
   "cell_type": "code",
   "execution_count": null,
   "id": "b3cc39f4",
   "metadata": {},
   "outputs": [],
   "source": [
    "from sklearn.model_selection import train_test_split\n",
    "from sklearn.preprocessing import StandardScaler\n",
    "from sklearn.decomposition import PCA\n",
    "\n",
    "def dropy(data):\n",
    "    newy1 = data[\"M_WEATHER\"]\n",
    "    newy2 = data[\"M_RAIN_PERCENTAGE\"]\n",
    "    newx = data.drop([\"M_WEATHER\",\"M_RAIN_PERCENTAGE\"],axis=1)\n",
    "    return newy1,newy2,newx\n",
    "\n",
    "def split(x,y):\n",
    "    [x_train,x_test,y_train,y_test] = train_test_split(x,y, test_size=0.33, random_state=1)\n",
    "    return x_train,x_test,y_train,y_test\n",
    "    \n",
    "def norm(data,features):\n",
    "    x = data.loc[:, features].values\n",
    "    x = StandardScaler().fit_transform(x) # normalizing the features\n",
    "    #convert normalized features into dataframe\n",
    "    x = pd.DataFrame(x,index = data.index ,columns=features)\n",
    "    return x\n",
    "\n",
    "def split_2(test,train,x,y):\n",
    "    rows = x.shape[0]\n",
    "    test_portion = round(test*rows)\n",
    "    train_portion = round(train*rows)\n",
    "    x_train = x[0:train_portion]\n",
    "    x_test = x[x_train.shape[0]+1:-1]\n",
    "    y_train = y[0:train_portion]\n",
    "    y_test = y[y_train.shape[0]+1:-1]\n",
    "    return x_train, x_test, y_train, y_test\n",
    "    "
   ]
  },
  {
   "cell_type": "code",
   "execution_count": 119,
   "id": "ad2936c3",
   "metadata": {},
   "outputs": [],
   "source": [
    "weather, rain_percent, subset1 = dropy(df)\n",
    "predictor_weather = [\"M_TRACK_TEMPERATURE\",\"M_AIR_TEMPERATURE\"]#\"M_TRACK_TEMPERATURE\",\"M_TRACK_ID\"]\n",
    "predictor_weather_val = norm(subset1,predictor_weather) #normalize predictors value\n",
    "np.std(predictor_weather_val) #prove that predictor values has 0 mean and 1 standard deviation\n",
    "#split predictor_weather_valinto test and train set\n",
    "x_train,x_test,y_train,y_test = train_test_split(predictor_weather_val,weather)"
   ]
  },
  {
   "cell_type": "code",
   "execution_count": 120,
   "id": "513d64bf",
   "metadata": {},
   "outputs": [],
   "source": [
    "predictor_w_weather = [\"M_TRACK_TEMPERATURE\",\"M_AIR_TEMPERATURE\",\"M_WEATHER\"]\n",
    "subset2 = norm(df,predictor_w_weather)\n",
    "x_train_w,x_test_w,y_train_w,y_test_w = split_2(0.3,0.7,subset2,subset2[\"M_WEATHER\"])\n"
   ]
  },
  {
   "cell_type": "code",
   "execution_count": null,
   "id": "8cd29cc1",
   "metadata": {},
   "outputs": [],
   "source": [
    "from sklearn.decomposition import PCA\n",
    "pca_weather = PCA(n_components=2)\n",
    "pc_weather = pca_weather.fit_transform(x_train)\n",
    "pc_weather_explained = pca_weather.explained_variance_ratio_\n",
    "pc_weather_explained"
   ]
  },
  {
   "cell_type": "code",
   "execution_count": null,
   "id": "5b6122be",
   "metadata": {},
   "outputs": [],
   "source": [
    "from sklearn.linear_model import LinearRegression\n",
    "# instantiate the regressor class\n",
    "regressor = LinearRegression()\n",
    "\n",
    "# fit the build the model by fitting the regressor to the training data\n",
    "regressor.fit(x_train, y_train)\n",
    "\n",
    "# make a prediction set using the test set\n",
    "prediction = regressor.predict(x_test)\n",
    "\n",
    "# Evaluate the prediction accuracy of the model\n",
    "from sklearn.metrics import mean_absolute_error, median_absolute_error\n",
    "print(\"The Explained Variance: %.2f\" % regressor.score(x_test, y_test))\n",
    "print(\"The Mean Absolute Error: %.2f  \" % mean_absolute_error(y_test, prediction))\n",
    "print(\"The Median Absolute Error: %.2f  \" % median_absolute_error(y_test, prediction))"
   ]
  },
  {
   "cell_type": "markdown",
   "id": "6fde7b41",
   "metadata": {},
   "source": [
    "Weather Predictive Model Building\n",
    "--------------------------------------\n"
   ]
  },
  {
   "cell_type": "code",
   "execution_count": 121,
   "id": "77042671",
   "metadata": {},
   "outputs": [
    {
     "name": "stderr",
     "output_type": "stream",
     "text": [
      "/home/datascience/conda/generalmachinelearningforcpusonpython3_7vyes/lib/python3.7/site-packages/statsmodels/tsa/base/tsa_model.py:583: ValueWarning: A date index has been provided, but it has no associated frequency information and so will be ignored when e.g. forecasting.\n",
      "  ' ignored when e.g. forecasting.', ValueWarning)\n"
     ]
    },
    {
     "data": {
      "text/html": [
       "<table class=\"simpletable\">\n",
       "<caption>VAR Order Selection (* highlights the minimums)</caption>\n",
       "<tr>\n",
       "   <td></td>      <th>AIC</th>         <th>BIC</th>         <th>FPE</th>        <th>HQIC</th>    \n",
       "</tr>\n",
       "<tr>\n",
       "  <th>0</th>  <td>    -4.573</td>  <td>    -4.573</td>  <td>   0.01032</td>  <td>    -4.573</td> \n",
       "</tr>\n",
       "<tr>\n",
       "  <th>1</th>  <td>    -29.04</td>  <td>    -29.04</td>  <td> 2.440e-13</td>  <td>    -29.04</td> \n",
       "</tr>\n",
       "<tr>\n",
       "  <th>2</th>  <td>    -29.21</td>  <td>    -29.21</td>  <td> 2.060e-13</td>  <td>    -29.21</td> \n",
       "</tr>\n",
       "<tr>\n",
       "  <th>3</th>  <td>    -29.22</td>  <td>    -29.22</td>  <td> 2.042e-13</td>  <td>    -29.22</td> \n",
       "</tr>\n",
       "<tr>\n",
       "  <th>4</th>  <td>    -29.22</td>  <td>    -29.22</td>  <td> 2.041e-13</td>  <td>    -29.22</td> \n",
       "</tr>\n",
       "<tr>\n",
       "  <th>5</th>  <td>    -29.22</td>  <td>    -29.22</td>  <td> 2.041e-13</td>  <td>    -29.22</td> \n",
       "</tr>\n",
       "<tr>\n",
       "  <th>6</th>  <td>    -29.22</td>  <td>    -29.22</td>  <td> 2.041e-13</td>  <td>    -29.22</td> \n",
       "</tr>\n",
       "<tr>\n",
       "  <th>7</th>  <td>    -29.22</td>  <td>    -29.22</td>  <td> 2.040e-13</td>  <td>    -29.22</td> \n",
       "</tr>\n",
       "<tr>\n",
       "  <th>8</th>  <td>    -29.22</td>  <td>    -29.22</td>  <td> 2.039e-13</td>  <td>    -29.22</td> \n",
       "</tr>\n",
       "<tr>\n",
       "  <th>9</th>  <td>    -29.22</td>  <td>    -29.22</td>  <td> 2.038e-13</td>  <td>    -29.22</td> \n",
       "</tr>\n",
       "<tr>\n",
       "  <th>10</th> <td>    -29.22</td>  <td>    -29.22</td>  <td> 2.037e-13</td>  <td>    -29.22</td> \n",
       "</tr>\n",
       "<tr>\n",
       "  <th>11</th> <td>    -29.22</td>  <td>    -29.22</td>  <td> 2.037e-13</td>  <td>    -29.22</td> \n",
       "</tr>\n",
       "<tr>\n",
       "  <th>12</th> <td>    -29.22*</td> <td>    -29.22*</td> <td> 2.037e-13*</td> <td>    -29.22*</td>\n",
       "</tr>\n",
       "</table>"
      ],
      "text/plain": [
       "<class 'statsmodels.iolib.table.SimpleTable'>"
      ]
     },
     "execution_count": 121,
     "metadata": {},
     "output_type": "execute_result"
    }
   ],
   "source": [
    "#fit the model\n",
    "\n",
    "model = VAR(x_train_w)\n",
    "#model_fit = model.fit()\n",
    "x = model.select_order(maxlags=12)\n",
    "x.summary()\n",
    "\n"
   ]
  },
  {
   "cell_type": "code",
   "execution_count": null,
   "id": "a72c8292",
   "metadata": {},
   "outputs": [],
   "source": [
    "model_fitted = model.fit(3)"
   ]
  },
  {
   "cell_type": "code",
   "execution_count": null,
   "id": "062daaa9",
   "metadata": {},
   "outputs": [],
   "source": [
    "model_fitted.summary()\n"
   ]
  },
  {
   "cell_type": "code",
   "execution_count": null,
   "id": "d825130c",
   "metadata": {},
   "outputs": [],
   "source": [
    "from statsmodels.stats.stattools import durbin_watson\n",
    "out = durbin_watson(model_fitted.resid)\n",
    "\n",
    " #the closer the residual to 2, the less significant the residual\n",
    "    \n",
    "for col, val in zip(x_train_w.columns, out):\n",
    "    print(col, ':', round(val, 2))\n",
    "    "
   ]
  },
  {
   "cell_type": "code",
   "execution_count": null,
   "id": "640dc3b1",
   "metadata": {},
   "outputs": [],
   "source": [
    "# Forecast Input\n",
    "x_test_w_lag = x_test_w[0:3] #forecast input\n",
    "x_test_w_lag_noindex = x_test_w_lag.reset_index(drop=True)\n",
    "x_train_w_lag = x_train_w[-3:].values"
   ]
  },
  {
   "cell_type": "code",
   "execution_count": null,
   "id": "d8817414",
   "metadata": {},
   "outputs": [],
   "source": [
    "start_date = x_train_w.index\n",
    "start_date = list(start_date)[-1]\n"
   ]
  },
  {
   "cell_type": "code",
   "execution_count": null,
   "id": "55addce1",
   "metadata": {},
   "outputs": [],
   "source": [
    "start_date = start_date.to_timestamp()"
   ]
  },
  {
   "cell_type": "code",
   "execution_count": null,
   "id": "17c7132e",
   "metadata": {},
   "outputs": [],
   "source": [
    "fc = model_fitted.forecast(x_train_w_lag,steps=5)\n",
    "idx = pd.date_range(start_date, periods=5, freq='T')\n",
    "df_forecast=pd.DataFrame(data=fc, index=idx, columns=x_test_w_lag.columns)\n",
    "df_forecast"
   ]
  },
  {
   "cell_type": "markdown",
   "id": "dc28878a",
   "metadata": {},
   "source": [
    "Evaluate the Forecast\n",
    "---------------------"
   ]
  },
  {
   "cell_type": "code",
   "execution_count": null,
   "id": "afc5e25f",
   "metadata": {},
   "outputs": [],
   "source": []
  },
  {
   "cell_type": "markdown",
   "id": "a9acd4a8",
   "metadata": {},
   "source": [
    "Rain_Percentage \n",
    "---------------"
   ]
  },
  {
   "cell_type": "code",
   "execution_count": null,
   "id": "6cb624c8",
   "metadata": {},
   "outputs": [],
   "source": [
    "subset_rain = df[df[\"M_RAIN_PERCENTAGE\"].notna()]"
   ]
  },
  {
   "cell_type": "markdown",
   "id": "017a51e8",
   "metadata": {},
   "source": [
    "Based on the Pearson's Correlation from the analysis above, the below features is chosen\n",
    "----------------------------------------------------------------------------------------"
   ]
  },
  {
   "cell_type": "code",
   "execution_count": null,
   "id": "386e9722",
   "metadata": {},
   "outputs": [],
   "source": [
    "predictors_rain = ['M_WEATHER_FORECAST_SAMPLES_M_WEATHER',\n",
    "       'M_WEATHER_FORECAST_SAMPLES_M_TRACK_TEMPERATURE',\n",
    "       'M_TRACK_TEMPERATURE_CHANGE',\n",
    "       'M_WEATHER_FORECAST_SAMPLES_M_AIR_TEMPERATURE',\n",
    "       'M_AIR_TEMPERATURE_CHANGE',\"\"]"
   ]
  },
  {
   "cell_type": "code",
   "execution_count": 117,
   "id": "acfe3927",
   "metadata": {},
   "outputs": [],
   "source": [
    "#target variable\n",
    "target2 = subset_rain[\"M_RAIN_PERCENTAGE\"]\n",
    "#normalized \n",
    "subset_rain = norm(subset_rain,predictors_rain)\n",
    "#split to test train\n",
    "x_train_rain,x_test_rain,y_train_rain,y_test_rain = split(subset_rain,target2)"
   ]
  },
  {
   "cell_type": "markdown",
   "id": "f5684ad0",
   "metadata": {},
   "source": [
    "Rain Percentage Predictive Model Building\n",
    "------------------"
   ]
  },
  {
   "cell_type": "code",
   "execution_count": null,
   "id": "0f6f06b3",
   "metadata": {},
   "outputs": [],
   "source": [
    "#fit the model\n",
    "from statsmodels.tsa.vector_ar.var_model import VAR\n",
    "\n",
    "\n",
    "model = VAR(x_train_)\n",
    "#model_fit = model.fit()\n",
    "x = model.select_order(maxlags=12)\n",
    "x.summary()\n",
    "\n",
    "# make prediction on validation\n",
    "#prediction = model_fit.forecast(model_fit.y, steps=len(x_test))\n"
   ]
  },
  {
   "cell_type": "code",
   "execution_count": null,
   "id": "0ddc70db",
   "metadata": {},
   "outputs": [],
   "source": [
    "model_fitted = model.fit(3)\n"
   ]
  },
  {
   "cell_type": "code",
   "execution_count": null,
   "id": "a800181b",
   "metadata": {},
   "outputs": [],
   "source": [
    "model_fitted.summary()\n"
   ]
  },
  {
   "cell_type": "code",
   "execution_count": null,
   "id": "6e311c1e",
   "metadata": {},
   "outputs": [],
   "source": [
    "from statsmodels.stats.stattools import durbin_watson\n",
    "out = durbin_watson(model_fitted.resid)\n",
    "\n",
    " #the closer the residual to 2, the less significant the residual\n",
    "    \n",
    "for col, val in zip(x_train_rain.columns, out):\n",
    "    print(col, ':', round(val, 2))\n",
    "    "
   ]
  },
  {
   "cell_type": "code",
   "execution_count": null,
   "id": "8aaaec67",
   "metadata": {},
   "outputs": [],
   "source": [
    "# Forecast Input\n",
    "x_test_rain_lag = x_test_rain[0:3] \n",
    "x_test_rain_lag_noindex = x_test_rain_lag.reset_index(drop=True)\n",
    "x_train_rain_lag = x_train_rain[-3:].values"
   ]
  },
  {
   "cell_type": "code",
   "execution_count": null,
   "id": "93f1e937",
   "metadata": {},
   "outputs": [],
   "source": [
    "start_date = x_train_rain.index\n",
    "start_date = list(start_date)[-1]\n"
   ]
  },
  {
   "cell_type": "code",
   "execution_count": null,
   "id": "f15d2583",
   "metadata": {},
   "outputs": [],
   "source": [
    "fc = model_fitted.forecast(x_train_rain_lag,steps=5)\n",
    "idx = pd.date_range(start_date, periods=5, freq='T')\n",
    "df_forecast_rain=pd.DataFrame(data=fc, index=idx, columns=x_test_rain_lag.columns)\n",
    "df_forecast_rain"
   ]
  },
  {
   "cell_type": "code",
   "execution_count": null,
   "id": "8d63237e",
   "metadata": {},
   "outputs": [],
   "source": [
    "#reset index\n",
    "df_forecast_rain = df_forecast_rain.reset_index()"
   ]
  },
  {
   "cell_type": "code",
   "execution_count": null,
   "id": "6e2a9dfb",
   "metadata": {},
   "outputs": [],
   "source": [
    "x_test_rain = x_test_rain.reset_index()"
   ]
  },
  {
   "cell_type": "code",
   "execution_count": null,
   "id": "77a1ffb6",
   "metadata": {},
   "outputs": [],
   "source": [
    "mask1 = x_test_rain[\"TIMESTAMP\"] >= str(df_forecast_rain[\"index\"][0])"
   ]
  },
  {
   "cell_type": "code",
   "execution_count": null,
   "id": "b16dc7e3",
   "metadata": {},
   "outputs": [],
   "source": [
    "mask2 =  x_test_rain[\"TIMESTAMP\"] <= str(df_forecast_rain[\"index\"][df_forecast_rain.shape[0]-1])"
   ]
  },
  {
   "cell_type": "code",
   "execution_count": null,
   "id": "6660a9cc",
   "metadata": {},
   "outputs": [],
   "source": [
    "mask = mask1 & mask2"
   ]
  },
  {
   "cell_type": "code",
   "execution_count": null,
   "id": "9fbb2518",
   "metadata": {},
   "outputs": [],
   "source": [
    "x_actual_rain = x_test_rain.loc[mask]"
   ]
  },
  {
   "cell_type": "code",
   "execution_count": null,
   "id": "2426ebf3",
   "metadata": {},
   "outputs": [],
   "source": []
  }
 ],
 "metadata": {
  "kernelspec": {
   "display_name": "Python [conda env:generalmachinelearningforcpusonpython3_7vyes]",
   "language": "python",
   "name": "conda-env-generalmachinelearningforcpusonpython3_7vyes-py"
  },
  "language_info": {
   "codemirror_mode": {
    "name": "ipython",
    "version": 3
   },
   "file_extension": ".py",
   "mimetype": "text/x-python",
   "name": "python",
   "nbconvert_exporter": "python",
   "pygments_lexer": "ipython3",
   "version": "3.7.12"
  }
 },
 "nbformat": 4,
 "nbformat_minor": 5
}
